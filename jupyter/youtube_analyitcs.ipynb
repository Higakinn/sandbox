{
  "nbformat": 4,
  "nbformat_minor": 0,
  "metadata": {
    "colab": {
      "provenance": [],
      "authorship_tag": "ABX9TyP7t3sV6nCR1eUp1wHWa/pi",
      "include_colab_link": true
    },
    "kernelspec": {
      "name": "python3",
      "display_name": "Python 3"
    },
    "language_info": {
      "name": "python"
    }
  },
  "cells": [
    {
      "cell_type": "markdown",
      "metadata": {
        "id": "view-in-github",
        "colab_type": "text"
      },
      "source": [
        "<a href=\"https://colab.research.google.com/github/Higakinn/sandbox/blob/main/jupyter/youtube_analyitcs.ipynb\" target=\"_parent\"><img src=\"https://colab.research.google.com/assets/colab-badge.svg\" alt=\"Open In Colab\"/></a>"
      ]
    },
    {
      "cell_type": "code",
      "source": [
        "!pip install pytube"
      ],
      "metadata": {
        "colab": {
          "base_uri": "https://localhost:8080/"
        },
        "id": "v5U8VKJjl33y",
        "outputId": "9eb0550c-a43a-4109-b7b6-972783aed741"
      },
      "execution_count": 2,
      "outputs": [
        {
          "output_type": "stream",
          "name": "stdout",
          "text": [
            "Looking in indexes: https://pypi.org/simple, https://us-python.pkg.dev/colab-wheels/public/simple/\n",
            "Collecting pytube\n",
            "  Downloading pytube-12.1.2-py3-none-any.whl (57 kB)\n",
            "\u001b[K     |████████████████████████████████| 57 kB 4.6 MB/s \n",
            "\u001b[?25hInstalling collected packages: pytube\n",
            "Successfully installed pytube-12.1.2\n"
          ]
        }
      ]
    },
    {
      "cell_type": "code",
      "execution_count": 18,
      "metadata": {
        "colab": {
          "base_uri": "https://localhost:8080/"
        },
        "id": "WEb0nKPUkQQI",
        "outputId": "cd6062d0-e9be-4217-c481-3b19103fd656"
      },
      "outputs": [
        {
          "output_type": "stream",
          "name": "stdout",
          "text": [
            "チャンネル名: sin2627\n"
          ]
        }
      ],
      "source": [
        "from pytube import Channel\n",
        "import sqlite3\n",
        "import traceback\n",
        " \n",
        "# チャンネルURL\n",
        "CHANNEL_URL = 'https://www.youtube.com/channel/UCeXk3uANGRvwMhCT_I_KyAQ/videos'\n",
        " \n",
        "c = Channel(CHANNEL_URL)\n",
        " \n",
        "# チャンネル名\n",
        "print(f'チャンネル名: {c.channel_name}')\n",
        " \n",
        "# display(c.__dict__.keys())\n",
        "# display(vars(c))\n",
        " \n",
        "for video in c.videos:\n",
        "    # 動画情報を登録\n",
        "    print(video)"
      ]
    },
    {
      "cell_type": "code",
      "source": [
        "from pytube import Channel\n",
        "\n",
        "channel = Channel(\"https://www.youtube.com/c/ProgrammingKnowledge\")\n",
        "\n",
        "# print(f\"チャンネルタイトル: {channel.title}\")\n",
        "\n",
        "for video in channel.videos:\n",
        "    print(f\"title: {video.title} URL: {video.watch_url}\")"
      ],
      "metadata": {
        "id": "W06O4CkynuHZ"
      },
      "execution_count": 17,
      "outputs": []
    }
  ]
}